{
 "cells": [
  {
   "cell_type": "code",
   "execution_count": 2,
   "metadata": {},
   "outputs": [],
   "source": [
    "import geopandas"
   ]
  },
  {
   "cell_type": "code",
   "execution_count": 3,
   "metadata": {},
   "outputs": [],
   "source": [
    "cadaster = geopandas.read_file(\"../Data/Shp/Cadaster/Full_Seigneury_Merged_v2.shp\")\n",
    "kanehsatake = geopandas.read_file(\"../Data/Shp/Kanehsatake/Kanehsatake.shp\")\n",
    "augmentations = geopandas.read_file(\"../Data/Shp/Augmentations/Seigneurial_augmentations.shp\")\n",
    "\n",
    "\n",
    "files = [(cadaster, 'Full_Cadaster'), (kanehsatake, 'Kanehsatake'), (augmentations, 'Augmentations')]\n"
   ]
  },
  {
   "cell_type": "code",
   "execution_count": 16,
   "metadata": {},
   "outputs": [],
   "source": [
    "def reproject_and_save(df: geopandas.GeoDataFrame, name: str):\n",
    "\n",
    "    projected = df.to_crs(4326)\n",
    "    print(projected.crs)\n",
    "    projected.to_file(f\"../Data/GeoJson/{name}.geojson\", driver = \"GeoJSON\")\n"
   ]
  },
  {
   "cell_type": "code",
   "execution_count": 17,
   "metadata": {},
   "outputs": [
    {
     "name": "stdout",
     "output_type": "stream",
     "text": [
      "epsg:4326\n",
      "epsg:4326\n",
      "epsg:4326\n"
     ]
    }
   ],
   "source": [
    "for file in files:\n",
    "    reproject_and_save(file[0], file[1])"
   ]
  }
 ],
 "metadata": {
  "kernelspec": {
   "display_name": "Python 3",
   "language": "python",
   "name": "python3"
  },
  "language_info": {
   "codemirror_mode": {
    "name": "ipython",
    "version": 3
   },
   "file_extension": ".py",
   "mimetype": "text/x-python",
   "name": "python",
   "nbconvert_exporter": "python",
   "pygments_lexer": "ipython3",
   "version": "3.10.11"
  },
  "orig_nbformat": 4
 },
 "nbformat": 4,
 "nbformat_minor": 2
}
